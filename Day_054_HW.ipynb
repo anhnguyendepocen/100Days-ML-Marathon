{
 "cells": [
  {
   "cell_type": "markdown",
   "metadata": {},
   "source": [
    "# 作業\n",
    "* 試著想想看, 非監督學習是否有可能使用評價函數 (Metric) 來鑑別好壞呢?  \n",
    "(Hint : 可以分為 \"有目標值\" 與 \"無目標值\" 兩個方向思考)"
   ]
  },
  {
   "cell_type": "markdown",
   "metadata": {
    "collapsed": true
   },
   "source": [
    "### ANS\n",
    "\n",
    "#### 有目標值\n",
    "可以使用評價函數來鑑別學習的效果，如 : \n",
    "\n",
    "Clustering 可以使用\n",
    "- adjusted Rand index(蘭德指數)\n",
    "- Normalized Mutual Information (NMI) \n",
    "- Adjusted Mutual Information (AMI)\n",
    "- ...\n",
    "\n",
    "若是一般監督式學習常見的任務，則評價函數相同。\n",
    "\n",
    "\n",
    "#### 無目標值\n",
    "根據模型不同，可以使用的評價函數也不同，但因為不知道正確答案，\n",
    "所以只能知道一些參考值，如 Clustering 可以使用 Silhouette Coefficient 了解"
   ]
  }
 ],
 "metadata": {
  "kernelspec": {
   "display_name": "Python 3",
   "language": "python",
   "name": "python3"
  },
  "language_info": {
   "codemirror_mode": {
    "name": "ipython",
    "version": 3
   },
   "file_extension": ".py",
   "mimetype": "text/x-python",
   "name": "python",
   "nbconvert_exporter": "python",
   "pygments_lexer": "ipython3",
   "version": "3.7.4"
  }
 },
 "nbformat": 4,
 "nbformat_minor": 1
}
