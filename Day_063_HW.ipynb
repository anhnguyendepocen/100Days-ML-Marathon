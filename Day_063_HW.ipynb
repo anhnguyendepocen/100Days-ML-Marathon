{
 "cells": [
  {
   "cell_type": "markdown",
   "metadata": {},
   "source": [
    "# 作業\n",
    "* 在精簡深度學習的方式上 : 卷積類神經 (CNN) 採用像素遠近，而遞歸類神經 (RNN) 採用著則是時間遠近\n",
    "* 那麼，既然有著類似的設計精神，兩者是否有可能互換應用呢?"
   ]
  },
  {
   "cell_type": "code",
   "execution_count": null,
   "metadata": {
    "collapsed": true
   },
   "outputs": [],
   "source": [
    "兩者的概念並沒有衝突，因此在滿足某些條件下可以互換應用。\n",
    "\n",
    "CNN 較常被使用在影像上，條件在於輸入的鄰近像素之間存在相關性；RNN 則是較常被應用在語音文本分析上，條件在於輸入的時序具有相關性。\n",
    "語音文本分析中如果能將輸入以空間描述時序上的變化，或許可以使用 CNN 來進行分析\n",
    "影像分析上，如果將空間的描述轉換成時序表示，則或許也可以使用 RNN 來進行分析"
   ]
  }
 ],
 "metadata": {
  "kernelspec": {
   "display_name": "Python 3",
   "language": "python",
   "name": "python3"
  },
  "language_info": {
   "codemirror_mode": {
    "name": "ipython",
    "version": 3
   },
   "file_extension": ".py",
   "mimetype": "text/x-python",
   "name": "python",
   "nbconvert_exporter": "python",
   "pygments_lexer": "ipython3",
   "version": "3.6.1"
  }
 },
 "nbformat": 4,
 "nbformat_minor": 2
}